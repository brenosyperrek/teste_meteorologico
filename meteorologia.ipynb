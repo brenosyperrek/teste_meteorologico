{
 "cells": [
  {
   "cell_type": "code",
   "execution_count": 4,
   "metadata": {},
   "outputs": [],
   "source": [
    "import numpy as np\n",
    "import pandas as pd\n",
    "from sklearn.linear_model import LinearRegression"
   ]
  },
  {
   "cell_type": "code",
   "execution_count": 15,
   "metadata": {},
   "outputs": [
    {
     "data": {
      "text/plain": [
       "(8760, 19)"
      ]
     },
     "execution_count": 15,
     "metadata": {},
     "output_type": "execute_result"
    }
   ],
   "source": [
    "df = pd.read_csv('dados/INMET_S_SC_A841_JOACABA_01-01-2022_A_31-12-2022.CSV', encoding='iso8859-1', sep = \";\", skipinitialspace = True)\n",
    "df.shape"
   ]
  },
  {
   "cell_type": "code",
   "execution_count": 16,
   "metadata": {},
   "outputs": [
    {
     "data": {
      "text/plain": [
       "Index(['Data', 'Hora UTC', 'PRECIPITAÇÃO TOTAL, HORÁRIO (mm)',\n",
       "       'PRESSAO ATMOSFERICA AO NIVEL DA ESTACAO, HORARIA (mB)',\n",
       "       'PRESSÃO ATMOSFERICA MAX.NA HORA ANT. (AUT) (mB)',\n",
       "       'PRESSÃO ATMOSFERICA MIN. NA HORA ANT. (AUT) (mB)',\n",
       "       'RADIACAO GLOBAL (Kj/m²)',\n",
       "       'TEMPERATURA DO AR - BULBO SECO, HORARIA (°C)',\n",
       "       'TEMPERATURA DO PONTO DE ORVALHO (°C)',\n",
       "       'TEMPERATURA MÁXIMA NA HORA ANT. (AUT) (°C)',\n",
       "       'TEMPERATURA MÍNIMA NA HORA ANT. (AUT) (°C)',\n",
       "       'TEMPERATURA ORVALHO MAX. NA HORA ANT. (AUT) (°C)',\n",
       "       'TEMPERATURA ORVALHO MIN. NA HORA ANT. (AUT) (°C)',\n",
       "       'UMIDADE REL. MAX. NA HORA ANT. (AUT) (%)',\n",
       "       'UMIDADE REL. MIN. NA HORA ANT. (AUT) (%)',\n",
       "       'UMIDADE RELATIVA DO AR, HORARIA (%)',\n",
       "       'VENTO, DIREÇÃO HORARIA (gr) (° (gr))', 'VENTO, RAJADA MAXIMA (m/s)',\n",
       "       'VENTO, VELOCIDADE HORARIA (m/s)'],\n",
       "      dtype='object')"
      ]
     },
     "execution_count": 16,
     "metadata": {},
     "output_type": "execute_result"
    }
   ],
   "source": [
    "df.columns"
   ]
  },
  {
   "cell_type": "code",
   "execution_count": 18,
   "metadata": {},
   "outputs": [
    {
     "name": "stdout",
     "output_type": "stream",
     "text": [
      "Temperatura:\n",
      "count     7862\n",
      "unique     314\n",
      "top       19,2\n",
      "freq        78\n",
      "Name: TEMPERATURA DO AR - BULBO SECO, HORARIA (°C), dtype: object\n",
      "Precipitação:\n",
      "count     7862\n",
      "unique      76\n",
      "top          0\n",
      "freq      6925\n",
      "Name: PRECIPITAÇÃO TOTAL, HORÁRIO (mm), dtype: object\n"
     ]
    }
   ],
   "source": [
    "print(\"Temperatura:\")\n",
    "print(df['TEMPERATURA DO AR - BULBO SECO, HORARIA (°C)'].describe())\n",
    "print(\"Precipitação:\")\n",
    "print(df['PRECIPITAÇÃO TOTAL, HORÁRIO (mm)'].describe())"
   ]
  },
  {
   "cell_type": "code",
   "execution_count": null,
   "metadata": {},
   "outputs": [],
   "source": []
  }
 ],
 "metadata": {
  "kernelspec": {
   "display_name": "Python 3",
   "language": "python",
   "name": "python3"
  },
  "language_info": {
   "codemirror_mode": {
    "name": "ipython",
    "version": 3
   },
   "file_extension": ".py",
   "mimetype": "text/x-python",
   "name": "python",
   "nbconvert_exporter": "python",
   "pygments_lexer": "ipython3",
   "version": "3.10.12"
  }
 },
 "nbformat": 4,
 "nbformat_minor": 2
}
